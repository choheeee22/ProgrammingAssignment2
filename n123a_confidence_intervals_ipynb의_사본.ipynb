{
  "nbformat": 4,
  "nbformat_minor": 0,
  "metadata": {
    "colab": {
      "name": "n123a-confidence-intervals.ipynb의 사본",
      "provenance": [],
      "collapsed_sections": [],
      "include_colab_link": true
    },
    "kernelspec": {
      "display_name": "Python 3",
      "language": "python",
      "name": "python3"
    },
    "language_info": {
      "codemirror_mode": {
        "name": "ipython",
        "version": 3
      },
      "file_extension": ".py",
      "mimetype": "text/x-python",
      "name": "python",
      "nbconvert_exporter": "python",
      "pygments_lexer": "ipython3",
      "version": "3.8.2"
    }
  },
  "cells": [
    {
      "cell_type": "markdown",
      "metadata": {
        "id": "view-in-github",
        "colab_type": "text"
      },
      "source": [
        "<a href=\"https://colab.research.google.com/github/choheeee22/ProgrammingAssignment2/blob/master/n123a_confidence_intervals_ipynb%EC%9D%98_%EC%82%AC%EB%B3%B8.ipynb\" target=\"_parent\"><img src=\"https://colab.research.google.com/assets/colab-badge.svg\" alt=\"Open In Colab\"/></a>"
      ]
    },
    {
      "cell_type": "markdown",
      "metadata": {
        "id": "g_c3L9CeANiJ"
      },
      "source": [
        "<img src='https://i.imgur.com/RDAD11M.png' width = '200' align = 'right'>\n",
        "\n",
        "## *DATA SCIENCE / SECTION 1 / SPRINT 2 / NOTE 3*\n",
        "\n",
        "# 📝 Assignment\n",
        "\n",
        "# 신뢰구간\n",
        "\n",
        "서울시 기간별 시간평균 대기환경 정보 데이터셋을 이용합니다.\n",
        "\n",
        "<img src='https://user-images.githubusercontent.com/6457691/89852263-740add80-dbc9-11ea-9e6b-8059b3f7e479.png'>\n",
        "\n",
        "<https://data.seoul.go.kr/dataList/OA-2221/S/1/datasetView.do>\n",
        "\n",
        "### `2020년 3월`의 송파구 데이터만 사용합니다.\n",
        "\n"
      ]
    },
    {
      "cell_type": "markdown",
      "metadata": {
        "id": "9BT9olD8zGyP"
      },
      "source": [
        "## 1. 데이터셋을 불러오세요\n",
        "\n",
        "  - 데이터는 `df`라는 변수에 저장되어야 하며\n",
        "  - Feature로는 `측정일시`, `측정소명`, `오존(ppm)` 만 사용합니다."
      ]
    },
    {
      "cell_type": "code",
      "metadata": {
        "id": "C1Tql4HDGefU",
        "colab": {
          "resources": {
            "http://localhost:8080/nbextensions/google.colab/files.js": {
              "data": "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",
              "ok": true,
              "headers": [
                [
                  "content-type",
                  "application/javascript"
                ]
              ],
              "status": 200,
              "status_text": ""
            }
          },
          "base_uri": "https://localhost:8080/",
          "height": 73
        },
        "outputId": "121a194c-88b3-4203-b948-07a8c83e71a6"
      },
      "source": [
        "#파일 열기\n",
        "from google.colab import files\n",
        "uploaded = files.upload()"
      ],
      "execution_count": null,
      "outputs": [
        {
          "output_type": "display_data",
          "data": {
            "text/html": [
              "\n",
              "     <input type=\"file\" id=\"files-09b9a3ba-9d65-4ba0-b8b1-5e0fe241cecc\" name=\"files[]\" multiple disabled\n",
              "        style=\"border:none\" />\n",
              "     <output id=\"result-09b9a3ba-9d65-4ba0-b8b1-5e0fe241cecc\">\n",
              "      Upload widget is only available when the cell has been executed in the\n",
              "      current browser session. Please rerun this cell to enable.\n",
              "      </output>\n",
              "      <script src=\"/nbextensions/google.colab/files.js\"></script> "
            ],
            "text/plain": [
              "<IPython.core.display.HTML object>"
            ]
          },
          "metadata": {
            "tags": []
          }
        },
        {
          "output_type": "stream",
          "text": [
            "Saving 서울시_기간별_시간평균_대기환경_정보_2020_03.csv to 서울시_기간별_시간평균_대기환경_정보_2020_03 (1).csv\n"
          ],
          "name": "stdout"
        }
      ]
    },
    {
      "cell_type": "code",
      "metadata": {
        "id": "U5PvfkR8B_Qs"
      },
      "source": [
        "import io\n",
        "import pandas as pd\n",
        "df = pd.read_csv(io.BytesIO(uploaded['서울시_기간별_시간평균_대기환경_정보_2020_03.csv']),encoding='utf-8',engine='python',skiprows=1,names=['측정일시','권역코드','권역명','측정소코드','측정소명','미세먼지 1시간(㎍/㎥)','미세먼지 24시간(㎍/㎥)','초미세먼지(㎍/㎥)','오존(ppm)','이산화질소농도(ppm)','일산화탄소농도(ppm)','아황산가스농도(ppm)'])"
      ],
      "execution_count": null,
      "outputs": []
    },
    {
      "cell_type": "code",
      "metadata": {
        "id": "NBfgq6MtEpge",
        "colab": {
          "base_uri": "https://localhost:8080/",
          "height": 606
        },
        "outputId": "b5d50711-d465-4eec-8934-2e56bf48ee4e"
      },
      "source": [
        "#original data -df\n",
        "df"
      ],
      "execution_count": null,
      "outputs": [
        {
          "output_type": "execute_result",
          "data": {
            "text/html": [
              "<div>\n",
              "<style scoped>\n",
              "    .dataframe tbody tr th:only-of-type {\n",
              "        vertical-align: middle;\n",
              "    }\n",
              "\n",
              "    .dataframe tbody tr th {\n",
              "        vertical-align: top;\n",
              "    }\n",
              "\n",
              "    .dataframe thead th {\n",
              "        text-align: right;\n",
              "    }\n",
              "</style>\n",
              "<table border=\"1\" class=\"dataframe\">\n",
              "  <thead>\n",
              "    <tr style=\"text-align: right;\">\n",
              "      <th></th>\n",
              "      <th>측정일시</th>\n",
              "      <th>권역코드</th>\n",
              "      <th>권역명</th>\n",
              "      <th>측정소코드</th>\n",
              "      <th>측정소명</th>\n",
              "      <th>미세먼지 1시간(㎍/㎥)</th>\n",
              "      <th>미세먼지 24시간(㎍/㎥)</th>\n",
              "      <th>초미세먼지(㎍/㎥)</th>\n",
              "      <th>오존(ppm)</th>\n",
              "      <th>이산화질소농도(ppm)</th>\n",
              "      <th>일산화탄소농도(ppm)</th>\n",
              "      <th>아황산가스농도(ppm)</th>\n",
              "    </tr>\n",
              "  </thead>\n",
              "  <tbody>\n",
              "    <tr>\n",
              "      <th>0</th>\n",
              "      <td>2.020030e+11</td>\n",
              "      <td>100</td>\n",
              "      <td>도심권</td>\n",
              "      <td>111123</td>\n",
              "      <td>종로구</td>\n",
              "      <td>47</td>\n",
              "      <td>48</td>\n",
              "      <td>22</td>\n",
              "      <td>0.036</td>\n",
              "      <td>0.018</td>\n",
              "      <td>0.4</td>\n",
              "      <td>0.004</td>\n",
              "    </tr>\n",
              "    <tr>\n",
              "      <th>1</th>\n",
              "      <td>2.020030e+11</td>\n",
              "      <td>100</td>\n",
              "      <td>도심권</td>\n",
              "      <td>111131</td>\n",
              "      <td>용산구</td>\n",
              "      <td>55</td>\n",
              "      <td>52</td>\n",
              "      <td>21</td>\n",
              "      <td>0.024</td>\n",
              "      <td>0.033</td>\n",
              "      <td>0.5</td>\n",
              "      <td>0.003</td>\n",
              "    </tr>\n",
              "    <tr>\n",
              "      <th>2</th>\n",
              "      <td>2.020030e+11</td>\n",
              "      <td>100</td>\n",
              "      <td>도심권</td>\n",
              "      <td>111121</td>\n",
              "      <td>중구</td>\n",
              "      <td>43</td>\n",
              "      <td>43</td>\n",
              "      <td>24</td>\n",
              "      <td>0.034</td>\n",
              "      <td>0.020</td>\n",
              "      <td>0.4</td>\n",
              "      <td>0.003</td>\n",
              "    </tr>\n",
              "    <tr>\n",
              "      <th>3</th>\n",
              "      <td>2.020030e+11</td>\n",
              "      <td>101</td>\n",
              "      <td>서북권</td>\n",
              "      <td>111181</td>\n",
              "      <td>은평구</td>\n",
              "      <td>51</td>\n",
              "      <td>54</td>\n",
              "      <td>18</td>\n",
              "      <td>0.047</td>\n",
              "      <td>0.010</td>\n",
              "      <td>0.3</td>\n",
              "      <td>0.003</td>\n",
              "    </tr>\n",
              "    <tr>\n",
              "      <th>4</th>\n",
              "      <td>2.020030e+11</td>\n",
              "      <td>101</td>\n",
              "      <td>서북권</td>\n",
              "      <td>111191</td>\n",
              "      <td>서대문구</td>\n",
              "      <td>58</td>\n",
              "      <td>57</td>\n",
              "      <td>21</td>\n",
              "      <td>0.047</td>\n",
              "      <td>0.012</td>\n",
              "      <td>0.6</td>\n",
              "      <td>0.003</td>\n",
              "    </tr>\n",
              "    <tr>\n",
              "      <th>...</th>\n",
              "      <td>...</td>\n",
              "      <td>...</td>\n",
              "      <td>...</td>\n",
              "      <td>...</td>\n",
              "      <td>...</td>\n",
              "      <td>...</td>\n",
              "      <td>...</td>\n",
              "      <td>...</td>\n",
              "      <td>...</td>\n",
              "      <td>...</td>\n",
              "      <td>...</td>\n",
              "      <td>...</td>\n",
              "    </tr>\n",
              "    <tr>\n",
              "      <th>18595</th>\n",
              "      <td>2.020030e+11</td>\n",
              "      <td>103</td>\n",
              "      <td>서남권</td>\n",
              "      <td>111231</td>\n",
              "      <td>영등포구</td>\n",
              "      <td>33</td>\n",
              "      <td>29</td>\n",
              "      <td>23</td>\n",
              "      <td>0.002</td>\n",
              "      <td>0.050</td>\n",
              "      <td>0.8</td>\n",
              "      <td>0.003</td>\n",
              "    </tr>\n",
              "    <tr>\n",
              "      <th>18596</th>\n",
              "      <td>2.020030e+11</td>\n",
              "      <td>104</td>\n",
              "      <td>동남권</td>\n",
              "      <td>111261</td>\n",
              "      <td>강남구</td>\n",
              "      <td>26</td>\n",
              "      <td>25</td>\n",
              "      <td>19</td>\n",
              "      <td>0.008</td>\n",
              "      <td>0.046</td>\n",
              "      <td>0.7</td>\n",
              "      <td>0.002</td>\n",
              "    </tr>\n",
              "    <tr>\n",
              "      <th>18597</th>\n",
              "      <td>2.020030e+11</td>\n",
              "      <td>104</td>\n",
              "      <td>동남권</td>\n",
              "      <td>111262</td>\n",
              "      <td>서초구</td>\n",
              "      <td>46</td>\n",
              "      <td>35</td>\n",
              "      <td>27</td>\n",
              "      <td>0.007</td>\n",
              "      <td>0.054</td>\n",
              "      <td>0.5</td>\n",
              "      <td>0.003</td>\n",
              "    </tr>\n",
              "    <tr>\n",
              "      <th>18598</th>\n",
              "      <td>2.020030e+11</td>\n",
              "      <td>104</td>\n",
              "      <td>동남권</td>\n",
              "      <td>111274</td>\n",
              "      <td>강동구</td>\n",
              "      <td>36</td>\n",
              "      <td>31</td>\n",
              "      <td>22</td>\n",
              "      <td>0.002</td>\n",
              "      <td>0.043</td>\n",
              "      <td>0.6</td>\n",
              "      <td>0.002</td>\n",
              "    </tr>\n",
              "    <tr>\n",
              "      <th>18599</th>\n",
              "      <td>2.020030e+11</td>\n",
              "      <td>104</td>\n",
              "      <td>동남권</td>\n",
              "      <td>111273</td>\n",
              "      <td>송파구</td>\n",
              "      <td>31</td>\n",
              "      <td>30</td>\n",
              "      <td>21</td>\n",
              "      <td>0.002</td>\n",
              "      <td>0.047</td>\n",
              "      <td>1.3</td>\n",
              "      <td>0.003</td>\n",
              "    </tr>\n",
              "  </tbody>\n",
              "</table>\n",
              "<p>18600 rows × 12 columns</p>\n",
              "</div>"
            ],
            "text/plain": [
              "               측정일시  권역코드  권역명  ...  이산화질소농도(ppm) 일산화탄소농도(ppm)  아황산가스농도(ppm)\n",
              "0      2.020030e+11   100  도심권  ...         0.018          0.4         0.004\n",
              "1      2.020030e+11   100  도심권  ...         0.033          0.5         0.003\n",
              "2      2.020030e+11   100  도심권  ...         0.020          0.4         0.003\n",
              "3      2.020030e+11   101  서북권  ...         0.010          0.3         0.003\n",
              "4      2.020030e+11   101  서북권  ...         0.012          0.6         0.003\n",
              "...             ...   ...  ...  ...           ...          ...           ...\n",
              "18595  2.020030e+11   103  서남권  ...         0.050          0.8         0.003\n",
              "18596  2.020030e+11   104  동남권  ...         0.046          0.7         0.002\n",
              "18597  2.020030e+11   104  동남권  ...         0.054          0.5         0.003\n",
              "18598  2.020030e+11   104  동남권  ...         0.043          0.6         0.002\n",
              "18599  2.020030e+11   104  동남권  ...         0.047          1.3         0.003\n",
              "\n",
              "[18600 rows x 12 columns]"
            ]
          },
          "metadata": {
            "tags": []
          },
          "execution_count": 3
        }
      ]
    },
    {
      "cell_type": "code",
      "metadata": {
        "id": "ncFaq7asKkYW",
        "colab": {
          "base_uri": "https://localhost:8080/",
          "height": 419
        },
        "outputId": "6cca6d2f-3574-4df2-c7f2-0bfa5eb66ce2"
      },
      "source": [
        "#feature 설정 & 송파구 - df1\n",
        "df1=df[['측정일시','측정소명','오존(ppm)']]\n",
        "df1\n",
        "df1=df1.loc[df1['측정소명']=='송파구']\n",
        "df1"
      ],
      "execution_count": null,
      "outputs": [
        {
          "output_type": "execute_result",
          "data": {
            "text/html": [
              "<div>\n",
              "<style scoped>\n",
              "    .dataframe tbody tr th:only-of-type {\n",
              "        vertical-align: middle;\n",
              "    }\n",
              "\n",
              "    .dataframe tbody tr th {\n",
              "        vertical-align: top;\n",
              "    }\n",
              "\n",
              "    .dataframe thead th {\n",
              "        text-align: right;\n",
              "    }\n",
              "</style>\n",
              "<table border=\"1\" class=\"dataframe\">\n",
              "  <thead>\n",
              "    <tr style=\"text-align: right;\">\n",
              "      <th></th>\n",
              "      <th>측정일시</th>\n",
              "      <th>측정소명</th>\n",
              "      <th>오존(ppm)</th>\n",
              "    </tr>\n",
              "  </thead>\n",
              "  <tbody>\n",
              "    <tr>\n",
              "      <th>24</th>\n",
              "      <td>2.020030e+11</td>\n",
              "      <td>송파구</td>\n",
              "      <td>0.020</td>\n",
              "    </tr>\n",
              "    <tr>\n",
              "      <th>49</th>\n",
              "      <td>2.020030e+11</td>\n",
              "      <td>송파구</td>\n",
              "      <td>0.021</td>\n",
              "    </tr>\n",
              "    <tr>\n",
              "      <th>73</th>\n",
              "      <td>2.020030e+11</td>\n",
              "      <td>송파구</td>\n",
              "      <td>0.025</td>\n",
              "    </tr>\n",
              "    <tr>\n",
              "      <th>99</th>\n",
              "      <td>2.020030e+11</td>\n",
              "      <td>송파구</td>\n",
              "      <td>0.032</td>\n",
              "    </tr>\n",
              "    <tr>\n",
              "      <th>124</th>\n",
              "      <td>2.020030e+11</td>\n",
              "      <td>송파구</td>\n",
              "      <td>0.034</td>\n",
              "    </tr>\n",
              "    <tr>\n",
              "      <th>...</th>\n",
              "      <td>...</td>\n",
              "      <td>...</td>\n",
              "      <td>...</td>\n",
              "    </tr>\n",
              "    <tr>\n",
              "      <th>18499</th>\n",
              "      <td>2.020030e+11</td>\n",
              "      <td>송파구</td>\n",
              "      <td>0.002</td>\n",
              "    </tr>\n",
              "    <tr>\n",
              "      <th>18524</th>\n",
              "      <td>2.020030e+11</td>\n",
              "      <td>송파구</td>\n",
              "      <td>0.002</td>\n",
              "    </tr>\n",
              "    <tr>\n",
              "      <th>18547</th>\n",
              "      <td>2.020030e+11</td>\n",
              "      <td>송파구</td>\n",
              "      <td>0.002</td>\n",
              "    </tr>\n",
              "    <tr>\n",
              "      <th>18573</th>\n",
              "      <td>2.020030e+11</td>\n",
              "      <td>송파구</td>\n",
              "      <td>0.002</td>\n",
              "    </tr>\n",
              "    <tr>\n",
              "      <th>18599</th>\n",
              "      <td>2.020030e+11</td>\n",
              "      <td>송파구</td>\n",
              "      <td>0.002</td>\n",
              "    </tr>\n",
              "  </tbody>\n",
              "</table>\n",
              "<p>744 rows × 3 columns</p>\n",
              "</div>"
            ],
            "text/plain": [
              "               측정일시 측정소명  오존(ppm)\n",
              "24     2.020030e+11  송파구    0.020\n",
              "49     2.020030e+11  송파구    0.021\n",
              "73     2.020030e+11  송파구    0.025\n",
              "99     2.020030e+11  송파구    0.032\n",
              "124    2.020030e+11  송파구    0.034\n",
              "...             ...  ...      ...\n",
              "18499  2.020030e+11  송파구    0.002\n",
              "18524  2.020030e+11  송파구    0.002\n",
              "18547  2.020030e+11  송파구    0.002\n",
              "18573  2.020030e+11  송파구    0.002\n",
              "18599  2.020030e+11  송파구    0.002\n",
              "\n",
              "[744 rows x 3 columns]"
            ]
          },
          "metadata": {
            "tags": []
          },
          "execution_count": 4
        }
      ]
    },
    {
      "cell_type": "markdown",
      "metadata": {
        "id": "wOQ-9E8uYcni"
      },
      "source": [
        "## 2. 데이터셋으로 부터 2개의 샘플을 생성하세요.\n",
        "\n",
        "- `s1`에 저장된 1개는 20개의 데이터, `s2`에 저장된 다른 1개는 200개이며 \n",
        "- 두 경우 모두 `random_state`로 `42`를 설정합니다.\n",
        "- 샘플링을 한 후에 인덱스를 초기화 합니다."
      ]
    },
    {
      "cell_type": "code",
      "metadata": {
        "id": "QP55yQ07GcMb",
        "colab": {
          "base_uri": "https://localhost:8080/",
          "height": 412
        },
        "outputId": "32b808c3-826f-407c-9c95-a3573f29dec4"
      },
      "source": [
        "# random datat 저장 (df.sample)\n",
        "import numpy as np\n",
        "import matplotlib.pyplot as plt\n",
        "s1=df1.sample(20,random_state=42)\n",
        "s1.reset_index()\n",
        "s2=df1.sample(200,random_state=42)\n",
        "s2.reset_index()"
      ],
      "execution_count": 15,
      "outputs": [
        {
          "output_type": "execute_result",
          "data": {
            "text/html": [
              "<div>\n",
              "<style scoped>\n",
              "    .dataframe tbody tr th:only-of-type {\n",
              "        vertical-align: middle;\n",
              "    }\n",
              "\n",
              "    .dataframe tbody tr th {\n",
              "        vertical-align: top;\n",
              "    }\n",
              "\n",
              "    .dataframe thead th {\n",
              "        text-align: right;\n",
              "    }\n",
              "</style>\n",
              "<table border=\"1\" class=\"dataframe\">\n",
              "  <thead>\n",
              "    <tr style=\"text-align: right;\">\n",
              "      <th></th>\n",
              "      <th>index</th>\n",
              "      <th>측정일시</th>\n",
              "      <th>측정소명</th>\n",
              "      <th>오존(ppm)</th>\n",
              "    </tr>\n",
              "  </thead>\n",
              "  <tbody>\n",
              "    <tr>\n",
              "      <th>0</th>\n",
              "      <td>15249</td>\n",
              "      <td>2.020030e+11</td>\n",
              "      <td>송파구</td>\n",
              "      <td>0.021</td>\n",
              "    </tr>\n",
              "    <tr>\n",
              "      <th>1</th>\n",
              "      <td>13499</td>\n",
              "      <td>2.020030e+11</td>\n",
              "      <td>송파구</td>\n",
              "      <td>0.020</td>\n",
              "    </tr>\n",
              "    <tr>\n",
              "      <th>2</th>\n",
              "      <td>17372</td>\n",
              "      <td>2.020030e+11</td>\n",
              "      <td>송파구</td>\n",
              "      <td>0.002</td>\n",
              "    </tr>\n",
              "    <tr>\n",
              "      <th>3</th>\n",
              "      <td>8774</td>\n",
              "      <td>2.020030e+11</td>\n",
              "      <td>송파구</td>\n",
              "      <td>0.009</td>\n",
              "    </tr>\n",
              "    <tr>\n",
              "      <th>4</th>\n",
              "      <td>4372</td>\n",
              "      <td>2.020030e+11</td>\n",
              "      <td>송파구</td>\n",
              "      <td>0.044</td>\n",
              "    </tr>\n",
              "    <tr>\n",
              "      <th>...</th>\n",
              "      <td>...</td>\n",
              "      <td>...</td>\n",
              "      <td>...</td>\n",
              "      <td>...</td>\n",
              "    </tr>\n",
              "    <tr>\n",
              "      <th>195</th>\n",
              "      <td>8948</td>\n",
              "      <td>2.020030e+11</td>\n",
              "      <td>송파구</td>\n",
              "      <td>0.022</td>\n",
              "    </tr>\n",
              "    <tr>\n",
              "      <th>196</th>\n",
              "      <td>8121</td>\n",
              "      <td>2.020030e+11</td>\n",
              "      <td>송파구</td>\n",
              "      <td>0.026</td>\n",
              "    </tr>\n",
              "    <tr>\n",
              "      <th>197</th>\n",
              "      <td>12171</td>\n",
              "      <td>2.020030e+11</td>\n",
              "      <td>송파구</td>\n",
              "      <td>0.031</td>\n",
              "    </tr>\n",
              "    <tr>\n",
              "      <th>198</th>\n",
              "      <td>3497</td>\n",
              "      <td>2.020030e+11</td>\n",
              "      <td>송파구</td>\n",
              "      <td>0.002</td>\n",
              "    </tr>\n",
              "    <tr>\n",
              "      <th>199</th>\n",
              "      <td>11346</td>\n",
              "      <td>2.020030e+11</td>\n",
              "      <td>송파구</td>\n",
              "      <td>0.034</td>\n",
              "    </tr>\n",
              "  </tbody>\n",
              "</table>\n",
              "<p>200 rows × 4 columns</p>\n",
              "</div>"
            ],
            "text/plain": [
              "     index          측정일시 측정소명  오존(ppm)\n",
              "0    15249  2.020030e+11  송파구    0.021\n",
              "1    13499  2.020030e+11  송파구    0.020\n",
              "2    17372  2.020030e+11  송파구    0.002\n",
              "3     8774  2.020030e+11  송파구    0.009\n",
              "4     4372  2.020030e+11  송파구    0.044\n",
              "..     ...           ...  ...      ...\n",
              "195   8948  2.020030e+11  송파구    0.022\n",
              "196   8121  2.020030e+11  송파구    0.026\n",
              "197  12171  2.020030e+11  송파구    0.031\n",
              "198   3497  2.020030e+11  송파구    0.002\n",
              "199  11346  2.020030e+11  송파구    0.034\n",
              "\n",
              "[200 rows x 4 columns]"
            ]
          },
          "metadata": {
            "tags": []
          },
          "execution_count": 15
        }
      ]
    },
    {
      "cell_type": "markdown",
      "metadata": {
        "id": "y2Rz-8O-YmF9"
      },
      "source": [
        "## 3. 두 샘플데이터에 대해서 `오존(ppm)`항목의 표본 평균을 계산하세요."
      ]
    },
    {
      "cell_type": "code",
      "metadata": {
        "id": "CdV4Tl1hGa6z",
        "colab": {
          "base_uri": "https://localhost:8080/"
        },
        "outputId": "57a7dc9e-c078-4774-c38e-d08071696ac5"
      },
      "source": [
        "#s1 오존 ppm 표본 평균 -n1\n",
        "n1=s1['오존(ppm)'].mean()\n",
        "n1"
      ],
      "execution_count": 23,
      "outputs": [
        {
          "output_type": "execute_result",
          "data": {
            "text/plain": [
              "0.021750000000000002"
            ]
          },
          "metadata": {
            "tags": []
          },
          "execution_count": 23
        }
      ]
    },
    {
      "cell_type": "code",
      "metadata": {
        "colab": {
          "base_uri": "https://localhost:8080/"
        },
        "id": "DrvR8-D-X0e6",
        "outputId": "bbea7e57-ac90-42cf-8d3f-9c560c3dedcf"
      },
      "source": [
        "#s2 오존 ppm 표본 평균 -n2\n",
        "n2=s2['오존(ppm)'].mean()\n",
        "n2"
      ],
      "execution_count": 24,
      "outputs": [
        {
          "output_type": "execute_result",
          "data": {
            "text/plain": [
              "0.02291999999999995"
            ]
          },
          "metadata": {
            "tags": []
          },
          "execution_count": 24
        }
      ]
    },
    {
      "cell_type": "markdown",
      "metadata": {
        "id": "9tIHBlM_SyGR"
      },
      "source": [
        "## 4. 위에서 추정한 값들을 바탕으로, 95%에 해당하는 신뢰구간을 `CI1과` `CI2`에 계산하세요.\n",
        "\n",
        "  - `ddof`는 `1`을 사용합니다."
      ]
    },
    {
      "cell_type": "code",
      "metadata": {
        "id": "rjq59rjMGZ-w",
        "colab": {
          "base_uri": "https://localhost:8080/"
        },
        "outputId": "88a7e0f7-074c-4333-ab8c-9d133624cbc7"
      },
      "source": [
        "# CI3-s1에 대한 t-interval\n",
        "from scipy import stats\n",
        "from scipy.stats import t\n",
        "\n",
        "# 표본의 크기\n",
        "n3= len(s1)\n",
        "# 자유도\n",
        "dof = n3-1\n",
        "# 평균의 평균\n",
        "mean = n1\n",
        "# 표본의 표준편차\n",
        "s1_std = np.std(s1, ddof = 1)\n",
        "# 표준 오차\n",
        "s1_std_err = s1_std / n3 ** 0.5 # sample_std / sqrt(n)\n",
        "\n",
        "CI0 = t.interval(0.95, df=n3-1, loc = n1, scale = s1_std_err)\n",
        "CI3=t.interval(0.95, dof, loc = n1, scale = s1_std_err)\n",
        "CI3"
      ],
      "execution_count": 42,
      "outputs": [
        {
          "output_type": "stream",
          "text": [
            "/usr/local/lib/python3.7/dist-packages/scipy/stats/_distn_infrastructure.py:2003: RuntimeWarning: invalid value encountered in multiply\n",
            "  lower_bound = _a * scale + loc\n",
            "/usr/local/lib/python3.7/dist-packages/scipy/stats/_distn_infrastructure.py:2004: RuntimeWarning: invalid value encountered in multiply\n",
            "  upper_bound = _b * scale + loc\n"
          ],
          "name": "stderr"
        },
        {
          "output_type": "execute_result",
          "data": {
            "text/plain": [
              "(array([       nan, 0.01506046]), array([       nan, 0.02843954]))"
            ]
          },
          "metadata": {
            "tags": []
          },
          "execution_count": 42
        }
      ]
    },
    {
      "cell_type": "code",
      "metadata": {
        "colab": {
          "base_uri": "https://localhost:8080/"
        },
        "id": "e0s2yx2Xn-L7",
        "outputId": "6fe45b97-88dc-4bb3-b6d6-75a0fe1a3a8c"
      },
      "source": [
        "# CI4-S2에 대한 t.interval\n",
        "# 표본의 크기\n",
        "n4= len(s2)\n",
        "# 자유도\n",
        "dof2 = n4-1\n",
        "# 평균의 평균\n",
        "mean2 = n2\n",
        "# 표본의 표준편차\n",
        "s2_std = np.std(s2, ddof = 1)\n",
        "# 표준 오차\n",
        "s2_std_err = s2_std / n4 ** 0.5 # sample_std / sqrt(n)\n",
        "CI4=t.interval(0.95, dof2, loc = n2, scale = s2_std_err)\n",
        "CI4\n",
        "\n",
        "CI3,CI4"
      ],
      "execution_count": 44,
      "outputs": [
        {
          "output_type": "stream",
          "text": [
            "/usr/local/lib/python3.7/dist-packages/scipy/stats/_distn_infrastructure.py:2003: RuntimeWarning: invalid value encountered in multiply\n",
            "  lower_bound = _a * scale + loc\n",
            "/usr/local/lib/python3.7/dist-packages/scipy/stats/_distn_infrastructure.py:2004: RuntimeWarning: invalid value encountered in multiply\n",
            "  upper_bound = _b * scale + loc\n"
          ],
          "name": "stderr"
        },
        {
          "output_type": "execute_result",
          "data": {
            "text/plain": [
              "((array([       nan, 0.01506046]), array([       nan, 0.02843954])),\n",
              " (array([       nan, 0.02100652]), array([       nan, 0.02483348])))"
            ]
          },
          "metadata": {
            "tags": []
          },
          "execution_count": 44
        }
      ]
    },
    {
      "cell_type": "code",
      "metadata": {
        "id": "GXLBewrmATUi"
      },
      "source": [
        "# def로 interval 구하기 - CI1&CI2\n",
        "def confidence_interval(data, confidence = 0.95):\n",
        "  \n",
        "  \"\"\"\n",
        "  주어진 데이터의 표본 **평균**에 대한 신뢰구간을 계산.\n",
        "  기본 값으로 t-분포와 양방향 (two-tailed), 95%의 신뢰도를 사용합니다. \n",
        "  \n",
        "  입력 값 : \n",
        "    data - 여러 개로 이루어진 (list 혹은 numpy 배열) 표본 관측치\n",
        "    confidence - 신뢰구간을 위한 신뢰도 \n",
        "  \n",
        "  반환 되는 값:\n",
        "    (평균, 하한, 상한구간)으로 이루어진 tuple\n",
        "  \"\"\"\n",
        "\n",
        "  data = np.array(data)\n",
        "  mean = np.mean(data)\n",
        "  n = len(data)\n",
        "  \n",
        "  # std / sqrt(n)\n",
        "  stderr = stats.sem(data) \n",
        "  # Standard Error of Mean (https://docs.scipy.org/doc/scipy/reference/generated/scipy.stats.sem.html)\n",
        "  # s / sqrt(n)\n",
        "\n",
        "  # length_of_one_interval\n",
        "  interval = stderr * stats.t.ppf( (1 + confidence) / 2 , n - 1) # ppf : inverse of cdf\n",
        "  return (mean, stderr, mean - interval, mean + interval)"
      ],
      "execution_count": 83,
      "outputs": []
    },
    {
      "cell_type": "code",
      "metadata": {
        "colab": {
          "base_uri": "https://localhost:8080/"
        },
        "id": "C2lG8nfCAsd8",
        "outputId": "cd0733df-3793-45ae-a644-25f187a90bb3"
      },
      "source": [
        "#CI1\n",
        "CI1=confidence_interval(s1['오존(ppm)'],confidence = 0.95)\n",
        "CI1"
      ],
      "execution_count": 84,
      "outputs": [
        {
          "output_type": "execute_result",
          "data": {
            "text/plain": [
              "(0.02175, 0.0031961119471863573, 0.015060460813957321, 0.028439539186042674)"
            ]
          },
          "metadata": {
            "tags": []
          },
          "execution_count": 84
        }
      ]
    },
    {
      "cell_type": "code",
      "metadata": {
        "colab": {
          "base_uri": "https://localhost:8080/"
        },
        "id": "pSd5Nyr6BGt2",
        "outputId": "b9c3c747-a7f3-4561-caa0-4c82d39b5b1b"
      },
      "source": [
        "#CI2\n",
        "CI2=confidence_interval(s2['오존(ppm)'],confidence = 0.95)\n",
        "CI2"
      ],
      "execution_count": 85,
      "outputs": [
        {
          "output_type": "execute_result",
          "data": {
            "text/plain": [
              "(0.02292, 0.00097034832889895, 0.02100651526262625, 0.02483348473737375)"
            ]
          },
          "metadata": {
            "tags": []
          },
          "execution_count": 85
        }
      ]
    },
    {
      "cell_type": "markdown",
      "metadata": {
        "id": "HsTtONTNawFi"
      },
      "source": [
        "## 5. `plt.bar`를 사용하여 다음과 같은 신뢰구간 시각화를 그리세요.\n",
        "  - 이때 보라색 선에 해당 하는 값을 `pop_mean`에 저장하세요.\n",
        "  - `colors = '#4000c7'`을 사용하세요.\n",
        "\n",
        "<img src='https://i.imgur.com/3orh30m.png'>\n",
        "\n",
        "\n",
        "\n",
        "\n"
      ]
    },
    {
      "cell_type": "code",
      "metadata": {
        "id": "skjzyQaJGIIw",
        "colab": {
          "base_uri": "https://localhost:8080/",
          "height": 109
        },
        "outputId": "ac9afd17-e48e-43f0-cdfb-79639b7628c0"
      },
      "source": [
        "# 시각화 (bar plot 먼저)\n",
        "import seaborn as sns\n",
        "x=pd.DataFrame([[\"s1\", 0.02175, 0.0031961119471863573, 0.015060460813957321, 0.028439539186042674],[\"s2\",0.02292, 0.00097034832889895, 0.02100651526262625, 0.02483348473737375]],columns=['Group','Mean','SD','Low','High'])\n",
        "x\n",
        "x.reset_index()\n",
        "x.set_index(x['Group'])\n",
        "x"
      ],
      "execution_count": 116,
      "outputs": [
        {
          "output_type": "execute_result",
          "data": {
            "text/html": [
              "<div>\n",
              "<style scoped>\n",
              "    .dataframe tbody tr th:only-of-type {\n",
              "        vertical-align: middle;\n",
              "    }\n",
              "\n",
              "    .dataframe tbody tr th {\n",
              "        vertical-align: top;\n",
              "    }\n",
              "\n",
              "    .dataframe thead th {\n",
              "        text-align: right;\n",
              "    }\n",
              "</style>\n",
              "<table border=\"1\" class=\"dataframe\">\n",
              "  <thead>\n",
              "    <tr style=\"text-align: right;\">\n",
              "      <th></th>\n",
              "      <th>Group</th>\n",
              "      <th>Mean</th>\n",
              "      <th>SD</th>\n",
              "      <th>Low</th>\n",
              "      <th>High</th>\n",
              "    </tr>\n",
              "  </thead>\n",
              "  <tbody>\n",
              "    <tr>\n",
              "      <th>0</th>\n",
              "      <td>s1</td>\n",
              "      <td>0.02175</td>\n",
              "      <td>0.003196</td>\n",
              "      <td>0.015060</td>\n",
              "      <td>0.028440</td>\n",
              "    </tr>\n",
              "    <tr>\n",
              "      <th>1</th>\n",
              "      <td>s2</td>\n",
              "      <td>0.02292</td>\n",
              "      <td>0.000970</td>\n",
              "      <td>0.021007</td>\n",
              "      <td>0.024833</td>\n",
              "    </tr>\n",
              "  </tbody>\n",
              "</table>\n",
              "</div>"
            ],
            "text/plain": [
              "  Group     Mean        SD       Low      High\n",
              "0    s1  0.02175  0.003196  0.015060  0.028440\n",
              "1    s2  0.02292  0.000970  0.021007  0.024833"
            ]
          },
          "metadata": {
            "tags": []
          },
          "execution_count": 116
        }
      ]
    },
    {
      "cell_type": "code",
      "metadata": {
        "colab": {
          "base_uri": "https://localhost:8080/"
        },
        "id": "4_AJvWNPcmY8",
        "outputId": "57ac7881-8b08-4efd-aa3d-98cb93220e02"
      },
      "source": [
        "pop_mean=(CI1[0]+CI2[0])/2\n",
        "pop_mean"
      ],
      "execution_count": 120,
      "outputs": [
        {
          "output_type": "execute_result",
          "data": {
            "text/plain": [
              "0.022335"
            ]
          },
          "metadata": {
            "tags": []
          },
          "execution_count": 120
        }
      ]
    },
    {
      "cell_type": "code",
      "metadata": {
        "colab": {
          "base_uri": "https://localhost:8080/",
          "height": 282
        },
        "id": "Q4iX36P1V_hQ",
        "outputId": "495e5d80-a157-4794-d9bc-ee116579881c"
      },
      "source": [
        "# yerr과 capsize를 이용하면 신뢰구간 표현가능\n",
        "\n",
        "plt.bar(x = 's1', height = CI1[0], yerr = CI1[2]-CI1[0], capsize = 10,color='#4C91C2')\n",
        "plt.bar(x = 's2', height = CI2[0], yerr = CI2[2]-CI1[0], capsize = 10,color='#FF983E')\n",
        "plt.axhline(pop_mean, linestyle = '--', color = '#4000c7')\n",
        "plt.axhline(CI1[0], color = 'black', xmin = 0.15, xmax = 0.35)\n",
        "plt.axhline(CI2[0], color = 'black', xmin = 0.65, xmax = 0.85)"
      ],
      "execution_count": 123,
      "outputs": [
        {
          "output_type": "execute_result",
          "data": {
            "text/plain": [
              "<matplotlib.lines.Line2D at 0x7f21ee70d590>"
            ]
          },
          "metadata": {
            "tags": []
          },
          "execution_count": 123
        },
        {
          "output_type": "display_data",
          "data": {
            "image/png": "[encoded data removed]",
            "text/plain": [
              "<Figure size 432x288 with 1 Axes>"
            ]
          },
          "metadata": {
            "tags": [],
            "needs_background": "light"
          }
        }
      ]
    },
    {
      "cell_type": "markdown",
      "metadata": {
        "id": "cvtnsGLJa4bW"
      },
      "source": [
        "# 🔥 도전과제\n",
        "> 아래 두 문제를 모두 다 하시면 됩니다."
      ]
    },
    {
      "cell_type": "markdown",
      "metadata": {
        "id": "ie_xQYk12TbX"
      },
      "source": [
        "## 1. [plotly](https://plotly.com/) 나 [seaborn](http://seaborn.pydata.org/index.html), [bokeh](https://docs.bokeh.org/en/latest/index.html) 등 다른 시각화 라이브러리를 선택하여 앞에서 그렸던 신뢰구간을 해당 라이브러리를 선택하여 그려보세요."
      ]
    },
    {
      "cell_type": "code",
      "metadata": {
        "id": "UpFeWb8gy4pr"
      },
      "source": [
        "# 이 곳에 답안을 작성하시길 바랍니다"
      ],
      "execution_count": null,
      "outputs": []
    },
    {
      "cell_type": "markdown",
      "metadata": {
        "id": "rfC_r9kl2VQj"
      },
      "source": [
        "## 2. 위 데이터의 `초미세먼지` 데이터를 사용하여, 큰 수의 법칙과, 중심극한정리를 구현하는 코드를 작성하세요."
      ]
    },
    {
      "cell_type": "code",
      "metadata": {
        "id": "3WzqW4jT3AvR"
      },
      "source": [
        "# 이 곳에 답안을 작성하시길 바랍니다"
      ],
      "execution_count": null,
      "outputs": []
    }
  ]
}